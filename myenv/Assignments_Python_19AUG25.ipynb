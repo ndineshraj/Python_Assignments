{
 "cells": [
  {
   "cell_type": "code",
   "execution_count": 3,
   "id": "d1a0b7cc",
   "metadata": {},
   "outputs": [
    {
     "name": "stdout",
     "output_type": "stream",
     "text": [
      "9\n",
      "14\n",
      "10.0\n"
     ]
    }
   ],
   "source": [
    "# 1.Create a class Calculator with a method add. \n",
    " \n",
    "# Overload add to take two integer arguments and return their sum. \n",
    " \n",
    "# Overload add again to take three integer arguments and return their sum. \n",
    " \n",
    "# Overload add a third time to take two float arguments and return their sum. \n",
    "\n",
    "class Calculator:\n",
    "    def add(self, a, b=0, c=0):\n",
    "        return a+b+c\n",
    "    \n",
    "c=Calculator()\n",
    "print(c.add(5, 4))\n",
    "print(c.add(5,4,5))\n",
    "print(c.add(4.5, 5.5))"
   ]
  },
  {
   "cell_type": "code",
   "execution_count": 7,
   "id": "454fdcb7",
   "metadata": {},
   "outputs": [
    {
     "name": "stdout",
     "output_type": "stream",
     "text": [
      "9\n",
      "14\n",
      "8.7\n"
     ]
    }
   ],
   "source": [
    "class Calculator:\n",
    "    def add(self, *args,**kwargs):\n",
    "        return sum(args)\n",
    "\n",
    "c=Calculator()\n",
    "print(c.add(5,4))\n",
    "print(c.add(5,4,5))\n",
    "print(c.add(2.5,4.2,2))\n",
    "\n",
    "\n",
    "    "
   ]
  },
  {
   "cell_type": "code",
   "execution_count": 9,
   "id": "d23a67d2",
   "metadata": {},
   "outputs": [
    {
     "name": "stdout",
     "output_type": "stream",
     "text": [
      "9\n",
      "14\n",
      "8.7\n"
     ]
    }
   ],
   "source": [
    "from multipledispatch import dispatch\n",
    "\n",
    "class Calculator:\n",
    "    \n",
    "    @dispatch(int, int)\n",
    "    def add(a,b):\n",
    "        return a+b\n",
    "    \n",
    "    @dispatch(int,int,int)\n",
    "    def add(a,b,c):\n",
    "        return a+b+c\n",
    "    \n",
    "    @dispatch(float, float, int)\n",
    "    def add(a, b, c):\n",
    "        return a+b+c\n",
    "    \n",
    "c= Calculator()\n",
    "print(c.add(5,4))\n",
    "print(c.add(5,4,5))\n",
    "print(c.add(2.5,4.2,2))\n"
   ]
  },
  {
   "cell_type": "code",
   "execution_count": 22,
   "id": "8b94d812",
   "metadata": {},
   "outputs": [
    {
     "data": {
      "text/plain": [
       "'Vehicle Make:Honda and Model:Civic, Manufactured in 2024Doors: 4'"
      ]
     },
     "execution_count": 22,
     "metadata": {},
     "output_type": "execute_result"
    }
   ],
   "source": [
    "# 3.Create a subclass Car that inherits from Vehicle. \n",
    " \n",
    "# Car's __init__ should take make, model, year, and an additional attribute num_doors. \n",
    " \n",
    "# Use super() to call the Vehicle's __init__ to handle the inherited attributes. \n",
    " \n",
    "# Override the get_info() method to also include the number of doors. \n",
    "# Use super() to call the parent's get_info() and append the new information. \n",
    "\n",
    "\n",
    "class Vehicle:\n",
    "    def __init__(self, make, model, year):\n",
    "        self.make=make\n",
    "        self.model = model\n",
    "        self.year =year\n",
    "    \n",
    "    def get_info(self):\n",
    "        return(f\"Vehicle Make:{self.make} and Model:{self.model}, Manufactured in {self.year}\")\n",
    "    \n",
    "class car(Vehicle):\n",
    "    def __init__(self, make, model, year, has_doors):\n",
    "        super().__init__(make, model, year)\n",
    "        self.has_doors = has_doors\n",
    "    def get_info(self):\n",
    "            return super().get_info() + f\"Doors: {self.has_doors}\"\n",
    "            # print(f'{super().get_info()},has {self.has_doors}')\n",
    "    \n",
    "\n",
    "c=car(\"Honda\", \"Civic\", \"2024\", 4)\n",
    "c.get_info()"
   ]
  },
  {
   "cell_type": "code",
   "execution_count": 27,
   "id": "942a10b1",
   "metadata": {},
   "outputs": [
    {
     "name": "stdout",
     "output_type": "stream",
     "text": [
      "Product: Laptop, Price: 55000\n",
      "Product: TV, Price: 71000, Download Link: https://Samsung.com/smartTV\n"
     ]
    }
   ],
   "source": [
    "# 4.Create a class Product with __init__ for name and price. \n",
    "# Implement __str__ to return a user-friendly product description. \n",
    "# Create a subclass DigitalProduct that inherits from Product \n",
    "# and adds a download_link attribute. \n",
    "# Override __str__ to include the download link. \n",
    "\n",
    "class Product:\n",
    "    def __init__(self, name, price):\n",
    "        self.name=name\n",
    "        self.price=price\n",
    "    \n",
    "    def __str__(self):\n",
    "        return f'Product: {self.name}, Price: {self.price}'\n",
    "    \n",
    "class Digital_Product(Product):\n",
    "    def __init__(self, name, price, download_link):\n",
    "        super().__init__(name, price)\n",
    "        self.download_link=download_link\n",
    "\n",
    "    def __str__(self):\n",
    "        return super().__str__() + f\", Download Link: {self.download_link}\"\n",
    "\n",
    "prod1=Product(\"Laptop\", 55000)\n",
    "prod2=Digital_Product(\"TV\", 71000, \"https://Samsung.com/smartTV\")\n",
    "\n",
    "print(prod1)\n",
    "print(prod2)"
   ]
  },
  {
   "cell_type": "code",
   "execution_count": 33,
   "id": "6b58049e",
   "metadata": {},
   "outputs": [
    {
     "name": "stdout",
     "output_type": "stream",
     "text": [
      "Your Selection is Python Basics & Author:John Doe, with the ISBN:978-3-16-148410-0\n",
      "Your Selection is Inception & Author:Christopher Nolan, with Run Time: 148mins\n"
     ]
    }
   ],
   "source": [
    "# 5.Create a class LibraryItem with __init__ for title and author. \n",
    "# Create a subclass Book that inherits from LibraryItem and adds isbn. \n",
    "# Override a method called display_details() to show all details. \n",
    "# Create a second subclass DVD that inherits from LibraryItem and adds runtime. \n",
    "# Override display_details() to show its specific details.\n",
    "\n",
    "class Library_Item:\n",
    "    def __init__(self, title, author):\n",
    "        self.title=title\n",
    "        self.author=author\n",
    "    \n",
    "    def display_details(self):\n",
    "        return f'Your Selection is {self.title} & Author:{self.author}'\n",
    "               \n",
    "class Book(Library_Item):\n",
    "    def __init__(self, title, author, isbn):\n",
    "        super().__init__(title, author)\n",
    "        self.isbn=isbn\n",
    "    \n",
    "    def display_details(self):\n",
    "        return super().display_details() + f', with the ISBN:{self.isbn}'\n",
    "\n",
    "class DVD(Library_Item):\n",
    "    def __init__(self, title, author, runtime):\n",
    "        super().__init__(title, author)\n",
    "        self.runtime=runtime\n",
    "\n",
    "    def display_details(self):\n",
    "       return super().display_details() + f', with Run Time: {self.runtime}mins'\n",
    "\n",
    "b1 = Book(\"Python Basics\", \"John Doe\", \"978-3-16-148410-0\")\n",
    "d1 = DVD(\"Inception\", \"Christopher Nolan\", 148)\n",
    "\n",
    "print(b1.display_details())\n",
    "print(d1.display_details())\n",
    "\n",
    "\n",
    "        "
   ]
  },
  {
   "cell_type": "code",
   "execution_count": null,
   "id": "179385a5",
   "metadata": {},
   "outputs": [
    {
     "name": "stdout",
     "output_type": "stream",
     "text": [
      "The Title SPEED & Duration:120 Mins, Director:Steven Spielsberg\n",
      "The Title FireWorks & Duration:5 Mins, Artist: Katy Perry\n"
     ]
    }
   ],
   "source": [
    "# 6.Create a base class Media with __init__ for title and duration. \n",
    "# Implement an __str__ method. \n",
    "# Create a subclass Movie that inherits from Media and adds director. \n",
    "# Override __str__ to include the director. \n",
    "# Create a second subclass Song that inherits from Media and adds artist. \n",
    "# Override __str__ to include the artist.  \n",
    "\n",
    "class Media:\n",
    "    def __init__(self, title, duration):\n",
    "        self.title =title\n",
    "        self.duration=duration\n",
    "\n",
    "    def __str__(self):\n",
    "        return(f'The Title {self.title} & Duration:{self.duration} Mins')\n",
    "    \n",
    "class Movie(Media):\n",
    "    def __init__(self, title, duration, director):\n",
    "        super().__init__(title, duration)\n",
    "        self.director = director\n",
    "\n",
    "    def __str__(self):\n",
    "        return super().__str__() + f', Director:{self.director}'\n",
    "\n",
    "class Song(Media):\n",
    "    def __init__(self, title, duration, artist):\n",
    "        super().__init__(title, duration)\n",
    "        self.artist =artist\n",
    "\n",
    "    def __str__(self):\n",
    "        return super().__str__() + f', Artist: {self.artist}'\n",
    "    \n",
    "M=Movie(\"SPEED\", 120, \"Steven Spielsberg\")\n",
    "S=Song(\"FireWorks\", 5, \"Katy Perry\")\n",
    "\n",
    "print(M)\n",
    "print(S)"
   ]
  }
 ],
 "metadata": {
  "kernelspec": {
   "display_name": "Python 3",
   "language": "python",
   "name": "python3"
  },
  "language_info": {
   "codemirror_mode": {
    "name": "ipython",
    "version": 3
   },
   "file_extension": ".py",
   "mimetype": "text/x-python",
   "name": "python",
   "nbconvert_exporter": "python",
   "pygments_lexer": "ipython3",
   "version": "3.11.9"
  }
 },
 "nbformat": 4,
 "nbformat_minor": 5
}
