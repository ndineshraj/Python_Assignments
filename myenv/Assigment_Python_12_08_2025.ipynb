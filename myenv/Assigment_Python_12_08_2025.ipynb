{
 "cells": [
  {
   "cell_type": "markdown",
   "id": "83eb68d4",
   "metadata": {},
   "source": [
    "Assignment:\n",
    "1.Ask for a name and print it in reverse, uppercase, and lowercase without using in-built function.\n",
    "2.Sort a List Without Using sort().\n",
    "3.Ask the user for a number and tell whether it’s prime or not.\n",
    "4.Count how many vowels are in a given string.\n",
    "5.Input marks of 5 subjects, calculate average, assign grades (A, B, C...), and show pass/fail status.\n",
    "6.Ask for shape (circle, square, rectangle), and compute area & perimeter.\n",
    "7.Check if a Year is a Leap Year."
   ]
  },
  {
   "cell_type": "code",
   "execution_count": 1,
   "id": "0cee6883",
   "metadata": {},
   "outputs": [
    {
     "name": "stdout",
     "output_type": "stream",
     "text": [
      "hseniD\n",
      "Converted: dinesh\n"
     ]
    }
   ],
   "source": [
    "#1.Ask for a name and print it in reverse, uppercase, and lowercase without using in-built function.\n",
    "\n",
    "def lower_upper(txt):\n",
    "    upper =\"ABCDEFGHIJKLMNOPQRSTUVWXYZ\"\n",
    "    lower=\"abcdefghijklmnopqrstuvwxyz\"\n",
    "    result=\"\"\n",
    "    for i in txt:\n",
    "        if i in upper:\n",
    "            result=result+lower[upper.index(i)]\n",
    "        else:\n",
    "            result=result+upper[lower.index(i)]\n",
    "    return result\n",
    "def sortt(txt):\n",
    "    rev_str=\"\"\n",
    "    for i in txt:\n",
    "        rev_str=i+rev_str\n",
    "    print(rev_str)\n",
    "        \n",
    "\n",
    "a=lower_upper(\"DINESH\")\n",
    "sortt(\"Dinesh\")\n",
    "print(\"Converted:\", a)\n"
   ]
  },
  {
   "cell_type": "code",
   "execution_count": null,
   "id": "4227c1a8",
   "metadata": {},
   "outputs": [
    {
     "name": "stdout",
     "output_type": "stream",
     "text": [
      "2000 Leap Year\n",
      "2001 Not a Leap Year\n",
      "2002 Not a Leap Year\n",
      "2003 Not a Leap Year\n",
      "2004 Leap Year\n",
      "2005 Not a Leap Year\n",
      "2006 Not a Leap Year\n",
      "2007 Not a Leap Year\n",
      "2008 Leap Year\n",
      "2009 Not a Leap Year\n",
      "2010 Not a Leap Year\n",
      "2011 Not a Leap Year\n",
      "2012 Leap Year\n",
      "2013 Not a Leap Year\n",
      "2014 Not a Leap Year\n",
      "2015 Not a Leap Year\n",
      "2016 Leap Year\n",
      "2017 Not a Leap Year\n",
      "2018 Not a Leap Year\n",
      "2019 Not a Leap Year\n",
      "2020 Leap Year\n",
      "2021 Not a Leap Year\n",
      "2022 Not a Leap Year\n",
      "2023 Not a Leap Year\n",
      "2024 Leap Year\n"
     ]
    }
   ],
   "source": [
    "# 7.Check if a Year is a Leap Year.\n",
    "\n",
    "for year in range(2000, 2025):\n",
    "# year = 2017\n",
    "    if(year % 400 == 0 or (year % 4 == 0 and year % 100 != 0)):\n",
    "        print(year, \"Leap Year\")\n",
    "    else:\n",
    "        print(year, \"Not a Leap Year\")"
   ]
  },
  {
   "cell_type": "code",
   "execution_count": null,
   "id": "e98b5870",
   "metadata": {},
   "outputs": [
    {
     "name": "stdout",
     "output_type": "stream",
     "text": [
      "Not a Prime\n"
     ]
    }
   ],
   "source": [
    "#3.Ask the user for a number and tell whether it’s prime or not.\n",
    "\n",
    "x=int(input())\n",
    "if x>1:\n",
    "    for i in range(2,x):\n",
    "        if x%i==0:\n",
    "            print(\"Not a Prime\") \n",
    "            break\n",
    "    else:\n",
    "        print(\"Prime\")\n",
    "else:\n",
    "    print(\"Not a Prime, Enter valid number > 1 \")"
   ]
  },
  {
   "cell_type": "code",
   "execution_count": null,
   "id": "631dd59e",
   "metadata": {},
   "outputs": [
    {
     "name": "stdout",
     "output_type": "stream",
     "text": [
      "The Given String is: Elango\n",
      "Number of Vowels in the given string: 3\n"
     ]
    }
   ],
   "source": [
    "#4.Count how many vowels are in a given string.\n",
    "\n",
    "name=input()\n",
    "vowels={\"a\",\"e\",\"i\",\"o\",\"u\",\"A\",\"E\",\"I\",\"O\",\"U\"}\n",
    "a=0\n",
    "for i in name:\n",
    "      if i in vowels:\n",
    "        a+=1\n",
    "print(\"The Given String is:\", name)\n",
    "print(\"Number of Vowels in the given string:\",a)\n",
    "    "
   ]
  },
  {
   "cell_type": "code",
   "execution_count": 76,
   "id": "d6dcf139",
   "metadata": {},
   "outputs": [
    {
     "name": "stdout",
     "output_type": "stream",
     "text": [
      "Tamil: 40\n",
      "English 40\n",
      "Maths 40\n",
      "Science 40\n",
      "SocialScience 40\n",
      "Average Marks: 40.0\n",
      "**RESULT**\n",
      "Failed\n"
     ]
    }
   ],
   "source": [
    "# 5.Input marks of 5 subjects, calculate average, assign grades (A, B, C...), and show pass/fail status.\n",
    "\n",
    "Tamil, English, Maths, Science, SocialScience = map(\n",
    "    int,\n",
    "    input(\"Please Enter the Subject Marks (Tamil English Maths Science SocialScience): \").split()\n",
    ")\n",
    "print(\"Tamil:\", Tamil)\n",
    "print(\"English\", English)\n",
    "print(\"Maths\", Maths)\n",
    "print(\"Science\", Science)\n",
    "print(\"SocialScience\", SocialScience)\n",
    "\n",
    "Avg_Marks_Scored= (Tamil+English+Maths+Science+SocialScience)/5\n",
    "print(\"Average Marks:\", Avg_Marks_Scored)\n",
    "print(\"**RESULT**\")\n",
    "if Avg_Marks_Scored >=90:\n",
    "    print(\"Passed with O Grade\")\n",
    "elif Avg_Marks_Scored>=80 and Avg_Marks_Scored<=89:\n",
    "    print(\"Passed with Grade A\")\n",
    "elif Avg_Marks_Scored>=70 and Avg_Marks_Scored<=79:\n",
    "    print(\"Passed with B Grade\")\n",
    "elif Avg_Marks_Scored>=50 and Avg_Marks_Scored<=69:\n",
    "    print(\"Passed with C Grade\")\n",
    "else:\n",
    "    print(\"Failed\")\n",
    "\n"
   ]
  },
  {
   "cell_type": "code",
   "execution_count": 81,
   "id": "cd96be27",
   "metadata": {},
   "outputs": [
    {
     "name": "stdout",
     "output_type": "stream",
     "text": [
      "The Area of Square is 16 and Perimeter is 16\n"
     ]
    }
   ],
   "source": [
    "# 6.Ask for shape (circle, square, rectangle), and compute area & perimeter.\n",
    "\n",
    "shape= input(\"Please Enter the Shape [circle / square /rectangle]:\")\n",
    "\n",
    "if shape ==\"circle\":\n",
    "    r=int(input(\"you've entered circle & please input radius:\"))\n",
    "    Area = 3.14*r*r\n",
    "    Circumference = 2*3.14*r\n",
    "    print(f\"The Area of Circle is {Area} and Circumference is {Circumference}\")\n",
    "elif shape ==\"square\":\n",
    "    a=int(input(\"you've enetered square, please input side\"))\n",
    "    Area= a*a\n",
    "    Perimeter = 4*a\n",
    "    print(f\"The Area of Square is {Area} and Perimeter is {Perimeter}\")\n",
    "elif shape ==\"rectangle\":\n",
    "    l=int(input(\"you've enetered rectangle, please input length and breadth\"))\n",
    "    b=int(input())\n",
    "    Area= l*b\n",
    "    Perimeter = 2*(l+b)\n",
    "    print(f\"The Area of Rectangle is {Area} and Perimeter is {Perimeter}\")\n",
    "else:\n",
    "    print(\"Select the right shape\")\n"
   ]
  },
  {
   "cell_type": "code",
   "execution_count": 92,
   "id": "e9d16546",
   "metadata": {},
   "outputs": [
    {
     "name": "stdout",
     "output_type": "stream",
     "text": [
      "[90, 80, 70, 50, 30, 10]\n",
      "[10, 30, 50, 70, 80, 90]\n"
     ]
    }
   ],
   "source": [
    "#2.Sort a List Without Using sort().\n",
    "\n",
    "def sort_list_desc(arr):\n",
    "    n=len(arr)\n",
    "    for i in range(n-1):\n",
    "        for j in range( 0,n-i-1):\n",
    "            if arr[j]<arr[j+1]:\n",
    "                arr[j],arr[j+1] = arr[j+1],arr[j]\n",
    "    return arr\n",
    "\n",
    "list_num= [90,70,10,30,50,80]\n",
    "sorted_list_desc=sort_list_desc(list_num)\n",
    "print(sorted_list_desc)\n",
    "\n",
    "\n",
    "def sort_list_asc(arr1):\n",
    "    n=len(arr1)\n",
    "    for i in range(n-1):\n",
    "        for j in range( 0,n-i-1):\n",
    "            if arr1[j]>arr1[j+1]:\n",
    "                arr1[j],arr1[j+1] = arr1[j+1],arr1[j]\n",
    "    return arr1\n",
    "\n",
    "list_num= [90,70,10,30,50,80]\n",
    "sorted_list_asc=sort_list_asc(list_num)\n",
    "print(sorted_list_asc)"
   ]
  }
 ],
 "metadata": {
  "kernelspec": {
   "display_name": "Python 3",
   "language": "python",
   "name": "python3"
  },
  "language_info": {
   "codemirror_mode": {
    "name": "ipython",
    "version": 3
   },
   "file_extension": ".py",
   "mimetype": "text/x-python",
   "name": "python",
   "nbconvert_exporter": "python",
   "pygments_lexer": "ipython3",
   "version": "3.11.9"
  }
 },
 "nbformat": 4,
 "nbformat_minor": 5
}
