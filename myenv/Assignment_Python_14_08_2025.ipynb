{
 "cells": [
  {
   "cell_type": "markdown",
   "id": "03941220",
   "metadata": {},
   "source": [
    "1.Create a calculator that handles invalid input and division by zero. \n",
    "2. Take two date strings and return the number of days between them. \n",
    "3. Find the sum of all numbers below 1000 that are multiples of 3 or 5. \n",
    "4. Validate a password based on the following rules: \n",
    "    At least 8 characters \n",
    "    Contains a digit \n",
    "    Contains a special character \n",
    "5. Write a loop that finds the sum of even numbers between 1 and 100. \n",
    "6. Use the random and string modules to generate a password of length 10, containing letters, digits, and special characters. "
   ]
  },
  {
   "cell_type": "code",
   "execution_count": 14,
   "id": "07f63fd4",
   "metadata": {},
   "outputs": [
    {
     "name": "stdout",
     "output_type": "stream",
     "text": [
      "Please select the Operation:\n",
      "Enter the value of a:\n",
      "Enter the value of b:\n",
      "Error: Cannot Divide by 0\n",
      "The Result is: None\n"
     ]
    }
   ],
   "source": [
    "# 1.Create a calculator that handles invalid input and division by zero. \n",
    "\n",
    "def calc(a,b,option):\n",
    "    if option == \"+\":\n",
    "        return a+b\n",
    "    elif option ==\"-\":\n",
    "        return a-b\n",
    "    elif option == \"-\":\n",
    "        return a*b\n",
    "    elif option == \"/\":\n",
    "        if b != 0:\n",
    "           return a/b\n",
    "        else:\n",
    "             print(\"Error: Cannot Divide by 0\")\n",
    "    else:\n",
    "        print(\"Invalid Operator\")\n",
    "\n",
    "print(\"Please select the Operation:\")\n",
    "option =input()\n",
    "print(\"Enter the value of a:\")\n",
    "a=int(input())\n",
    "print(\"Enter the value of b:\")\n",
    "b=int(input())\n",
    "if a and b >=0:\n",
    "    print(\"The Result is:\",calc(a,b,option))\n",
    "else:\n",
    "    print(\"Invalid Input\")"
   ]
  },
  {
   "cell_type": "code",
   "execution_count": 29,
   "id": "22a3732d",
   "metadata": {},
   "outputs": [
    {
     "name": "stdout",
     "output_type": "stream",
     "text": [
      "Sum of all multiples of 3 and 5 below 1000 are: 233168\n"
     ]
    }
   ],
   "source": [
    "# 3. Find the sum of all numbers below 1000 that are multiples of 3 or 5.\n",
    "def addmul():\n",
    "    add=0\n",
    "    for i in range(1,1000):\n",
    "        if i%3==0 or i%5==0:\n",
    "            add+=i\n",
    "    return add\n",
    "        \n",
    "print(\"Sum of all multiples of 3 and 5 below 1000 are:\", addmul())"
   ]
  },
  {
   "cell_type": "code",
   "execution_count": 70,
   "id": "af5f2149",
   "metadata": {},
   "outputs": [
    {
     "name": "stdout",
     "output_type": "stream",
     "text": [
      "Password Policy Satisfied\n"
     ]
    }
   ],
   "source": [
    "# 4. Validate a password based on the following rules: \n",
    "   # At least 8 characters \n",
    "   # Contains a digit \n",
    "   # Contains a special character \n",
    "\n",
    "def check_password(password):\n",
    "    has_splchar=False\n",
    "    has_digit=False\n",
    "    special_chars=\"!@#$%^&*()_+\"\n",
    "    for char in password:\n",
    "        if char.isdigit():\n",
    "            has_digit=True\n",
    "        elif char in special_chars:\n",
    "            has_splchar=True\n",
    "        \n",
    "    return has_digit and has_splchar\n",
    "\n",
    "password=\"password1!>\"\n",
    "if len(password)<8:\n",
    "    print(\"Password Length shuold be atleast 8 characters\")\n",
    "else:\n",
    "    check_password(password)\n",
    "    if check_password(password):\n",
    "        print(\"Password Policy Satisfied\")\n",
    "    else:\n",
    "        print(\"Password Policy Not Met\")\n",
    "        print(\"Re-enter password based on the following rules:\")\n",
    "        print(\"- At least 8 characters\")\n",
    "        print(\"- Contains a digit\")\n",
    "        print(\"- Contains a special character:---> '!@#$%^&*()_+'\")"
   ]
  },
  {
   "cell_type": "code",
   "execution_count": 75,
   "id": "6105c985",
   "metadata": {},
   "outputs": [
    {
     "name": "stdout",
     "output_type": "stream",
     "text": [
      "Even Numbers [2, 4, 6, 8, 10, 12, 14, 16, 18, 20, 22, 24, 26, 28, 30, 32, 34, 36, 38, 40, 42, 44, 46, 48, 50, 52, 54, 56, 58, 60, 62, 64, 66, 68, 70, 72, 74, 76, 78, 80, 82, 84, 86, 88, 90, 92, 94, 96, 98]\n"
     ]
    }
   ],
   "source": [
    "#  5. Write a loop that finds the sum of even numbers between 1 and 100. \n",
    "\n",
    "def evenfind():\n",
    "    even=[]\n",
    "    for i in range(1,100):\n",
    "        if i%2==0:\n",
    "            even.append(i)\n",
    "    return even\n",
    "\n",
    "print(\"Even Numbers\", evenfind())\n",
    "\n"
   ]
  },
  {
   "cell_type": "code",
   "execution_count": 84,
   "id": "de1d6836",
   "metadata": {},
   "outputs": [
    {
     "name": "stdout",
     "output_type": "stream",
     "text": [
      "The number of days between 2025-12-31 & 2024-12-31 is 365\n"
     ]
    }
   ],
   "source": [
    "#  2. Take two date strings and return the number of days between them.\n",
    "\n",
    "from datetime import datetime\n",
    "\n",
    "\n",
    "# date1= date(2025, 12, 31)\n",
    "# date2= date(2024, 12, 31)\n",
    "\n",
    "d1 = input(\"Enter first date (YYYY-MM-DD): \")\n",
    "d2 = input(\"Enter second date (YYYY-MM-DD): \")\n",
    "\n",
    "date1 = datetime.strptime(d1, \"%Y-%m-%d\").date()\n",
    "date2 = datetime.strptime(d2, \"%Y-%m-%d\").date()\n",
    "\n",
    "time_difference=date1-date2\n",
    "no_of_days=time_difference.days\n",
    "\n",
    "print(f'The number of days between {date1} & {date2} is {no_of_days}')\n"
   ]
  },
  {
   "cell_type": "code",
   "execution_count": 86,
   "id": "5349c88c",
   "metadata": {},
   "outputs": [
    {
     "name": "stdout",
     "output_type": "stream",
     "text": [
      "U50fJU*k$/\n"
     ]
    }
   ],
   "source": [
    "# 6. Use the random and string modules to generate a password of length 10, containing letters, \n",
    "# digits, and special characters. \n",
    "\n",
    "import random\n",
    "import string\n",
    "\n",
    "def generate_password(length):\n",
    "    characters = string.ascii_letters + string.digits + string.punctuation\n",
    "    return ''.join(random.choices(characters, k=length))\n",
    "\n",
    "password = generate_password(10)\n",
    "print(password)\n",
    "\n",
    "\n"
   ]
  }
 ],
 "metadata": {
  "kernelspec": {
   "display_name": "Python 3",
   "language": "python",
   "name": "python3"
  },
  "language_info": {
   "codemirror_mode": {
    "name": "ipython",
    "version": 3
   },
   "file_extension": ".py",
   "mimetype": "text/x-python",
   "name": "python",
   "nbconvert_exporter": "python",
   "pygments_lexer": "ipython3",
   "version": "3.11.9"
  }
 },
 "nbformat": 4,
 "nbformat_minor": 5
}
