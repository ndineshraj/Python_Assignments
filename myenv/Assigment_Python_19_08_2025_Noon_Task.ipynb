{
 "cells": [
  {
   "cell_type": "code",
   "execution_count": null,
   "id": "060dcf25",
   "metadata": {},
   "outputs": [
    {
     "name": "stdout",
     "output_type": "stream",
     "text": [
      "Trasnportation Types -->\n",
      "Driving on road\n",
      "Trasnportation Types -->\n",
      "Sailing on Water\n"
     ]
    }
   ],
   "source": [
    "# 1. Transportation System\n",
    " \n",
    "# Base class: Transport with method move().\n",
    " \n",
    "# Derived classes:\n",
    " \n",
    "# Car – overrides move() to say “Driving on road.”\n",
    " \n",
    "# Boat – overrides move() to say “Sailing on water.\"\n",
    "\n",
    "\n",
    "\n",
    "class transport:\n",
    "    def move(self):\n",
    "        print(\"Trasnportation Types -->\")\n",
    "    \n",
    "class car(transport):\n",
    "    def move(self):\n",
    "        super().move()\n",
    "        print(\"Driving on road\")\n",
    "\n",
    "class boat(transport):\n",
    "    def move(self):\n",
    "        super().move()\n",
    "        print(\"Sailing on Water\")\n",
    "\n",
    "c=car()\n",
    "c.move()\n",
    "\n",
    "b=boat()\n",
    "b.move()"
   ]
  },
  {
   "cell_type": "code",
   "execution_count": 29,
   "id": "e7cc6b96",
   "metadata": {},
   "outputs": [
    {
     "name": "stdout",
     "output_type": "stream",
     "text": [
      "Base Salary Calculation is computed in Parent Section\n",
      "Fulltime Employee Salary 73200\n",
      "Part Time Employee only have Insurance Benefits\n",
      "Part Time Employee Salary 31200\n"
     ]
    }
   ],
   "source": [
    "# 2.Base class: Employee with method calculate_salary().\n",
    " \n",
    "# Derived classes:\n",
    " \n",
    "# FullTimeEmployee – uses a fixed monthly salary.\n",
    "\n",
    "# PartTimeEmployee – calculates based on hours worked.\n",
    "\n",
    "class Employee:\n",
    "    \n",
    "    def calculate_salary(self):\n",
    "        print(\"Base Salary Calculation is computed in Parent Section\")\n",
    "        Basic_Salary=15000\n",
    "        HRA=8000\n",
    "        TA=4000\n",
    "        Insurance=1200\n",
    "        BaseSal=Basic_Salary+HRA+TA+Insurance\n",
    "        return BaseSal\n",
    "    def insurance(self):\n",
    "        self.insurance =1200\n",
    "        return self.insurance\n",
    "    \n",
    "class FullTimeEmployee(Employee):\n",
    "    def calculate_salary(self, Monthly_Salary):\n",
    "        return super().calculate_salary()+Monthly_Salary\n",
    "class ParttimeEmployee(Employee):\n",
    "    def calculate_salary(self, salary, hours):\n",
    "        total_salary= salary*hours\n",
    "        print(\"Part Time Employee only have Insurance Benefits\")\n",
    "        return total_salary+super().insurance()\n",
    "        \n",
    "f=FullTimeEmployee()\n",
    "p=ParttimeEmployee()\n",
    "\n",
    "print(\"Fulltime Employee Salary\", f.calculate_salary(45000))\n",
    "print(\"Part Time Employee Salary\", p.calculate_salary(750, 40))\n"
   ]
  },
  {
   "cell_type": "code",
   "execution_count": 8,
   "id": "63ba833f",
   "metadata": {},
   "outputs": [
    {
     "name": "stdout",
     "output_type": "stream",
     "text": [
      "('Happy Shopping !', \"You've Chosen online payment & shipping\")\n",
      "('Happy Shopping !', \"You've Chosen Store Pickup \")\n"
     ]
    }
   ],
   "source": [
    "# 3.Base class: Order with method process_order().\n",
    " \n",
    "# Derived classes:\n",
    " \n",
    "# OnlineOrder – overrides to include payment and shipping.\n",
    " \n",
    "# StorePickupOrder – overrides to include in-store pickup instructions.\n",
    "\n",
    "class shopping:\n",
    "    def process_order(self):\n",
    "        return\"Happy Shopping !\"\n",
    "class online_order(shopping):\n",
    "    def process_order(self):\n",
    "        return super().process_order(),\"You've Chosen online payment & shipping\"\n",
    "class store_pickup(shopping):\n",
    "    def process_order(self):\n",
    "        return super().process_order(), \"You've Chosen Store Pickup \"\n",
    "\n",
    "o=online_order()\n",
    "print(o.process_order())\n",
    "s=store_pickup()\n",
    "print(s.process_order())\n",
    "    "
   ]
  },
  {
   "cell_type": "code",
   "execution_count": 23,
   "id": "14683971",
   "metadata": {},
   "outputs": [
    {
     "name": "stdout",
     "output_type": "stream",
     "text": [
      "Choose Your Item Category: \n",
      "Book\n",
      "Magazine\n",
      "DVD\n",
      "\tYou've seleceted Books Section\n",
      "Choose Your Item Category: \n",
      "Book\n",
      "Magazine\n",
      "DVD\n",
      "\tYou've Chosen Magazines Section\n",
      "Choose Your Item Category: \n",
      "Book\n",
      "Magazine\n",
      "DVD\n",
      "\tYou've Chosen DVD Section\n"
     ]
    }
   ],
   "source": [
    "# 4.Base class: LibraryItem with method get_info().\n",
    " \n",
    "# Derived classes:\n",
    " \n",
    "# Book, Magazine, DVD – each overrides get_info() to return its specific details.\n",
    "\n",
    "class LibraryItem:\n",
    "    def get_info(self):\n",
    "        return \"Choose Your Item Category: \\nBook\\nMagazine\\nDVD\\n\\t\"\n",
    "class book(LibraryItem):\n",
    "    def get_info(self):\n",
    "        return super().get_info()+f\"You've seleceted Books Section\"\n",
    "class Magazine(LibraryItem):\n",
    "    def get_info(self):\n",
    "        return super().get_info()+\"You've Chosen Magazines Section\"\n",
    "class DVD(LibraryItem):\n",
    "    def get_info(self):\n",
    "        return super().get_info()+\"You've Chosen DVD Section\"\n",
    "\n",
    "b=book()\n",
    "m=Magazine()\n",
    "d=DVD()\n",
    "print(b.get_info())\n",
    "print(m.get_info())\n",
    "print(d.get_info())"
   ]
  },
  {
   "cell_type": "code",
   "execution_count": 54,
   "id": "48475b13",
   "metadata": {},
   "outputs": [
    {
     "name": "stdout",
     "output_type": "stream",
     "text": [
      "Using Args >>\n",
      "\n",
      "Sending Text: Hello Dude\n",
      "Using Args >>\n",
      "Sending Text: Hello Dude : Sending Image: Image.jpeg\n",
      "Using Args >>\n",
      "Sending Text: Hello Dude : Sending Image: Image.jpeg : Sending Video: Video.mp4\n",
      "\n",
      "\n",
      "Using Kargs\n",
      "\n",
      "Sending Text, Image and Video: Hello:Photo.png:Movie.mp4\n"
     ]
    }
   ],
   "source": [
    "# 5.Create a class MessageSender with method send_message() that works with:\n",
    " \n",
    "# A string (text message).\n",
    " \n",
    "# A string and an image.\n",
    " \n",
    "# A string, image, and video.\n",
    " \n",
    "# Use *args and **kwargs to simulate overloading.\n",
    "\n",
    "class MessageSender:\n",
    "    def send_message(self, *args):\n",
    "        print(\"Using Args >>\")\n",
    "        if len(args)==1:\n",
    "            text=args[0]\n",
    "            print(f\"\\nSending Text: {text}\")\n",
    "        elif len(args)==2:\n",
    "            text, image =args\n",
    "            print(f\"Sending Text: {text} : Sending Image: {image}\")\n",
    "        elif len(args)==3:\n",
    "            text, image, video =args\n",
    "            print(f\"Sending Text: {text} : Sending Image: {image} : Sending Video: {video}\")\n",
    "        else:\n",
    "            print(\"Invalid Args\")\n",
    "M=MessageSender()\n",
    "M.send_message(\"Hello Dude\")\n",
    "M.send_message(\"Hello Dude\", \"Image.jpeg\")\n",
    "M.send_message(\"Hello Dude\",\"Image.jpeg\", \"Video.mp4\")\n",
    "\n",
    "# Using Kargs\n",
    "\n",
    "class MessageSender1:\n",
    "    def send_message1(self, **kargs):\n",
    "        print(\"\\n\\nUsing Kargs\")\n",
    "        if \"text\" in kargs and \"Image\" in kargs and \"Video\" in kargs:\n",
    "            print(f\"\\nSending Text, Image and Video: {kargs['text']}:{kargs['Image']}:{kargs['Video']}\")\n",
    "        else:\n",
    "            print(\"Invalid Args >>\")\n",
    "M1=MessageSender1()\n",
    "M1.send_message1(text=\"Hello\", Image=\"Photo.png\", Video=\"Movie.mp4\")"
   ]
  },
  {
   "cell_type": "code",
   "execution_count": 43,
   "id": "7e3c16a5",
   "metadata": {},
   "outputs": [
    {
     "name": "stdout",
     "output_type": "stream",
     "text": [
      "This info contains Hospital Details\n",
      "This has Patient Details\n",
      "This info contains Hospital Details\n",
      "This has Doctor Details\n"
     ]
    }
   ],
   "source": [
    "# 6.Base class: Person with name, age.\n",
    " \n",
    "# Derived classes:\n",
    " \n",
    "# Patient – includes disease and treatment_plan.\n",
    " \n",
    "# Doctor – includes specialization and schedule_appointment().\n",
    "\n",
    "class person:\n",
    "    def __init__(self, name, age):\n",
    "        self.name =name\n",
    "        self.age =age\n",
    "    def __str__(self):\n",
    "        return f\"Name: {self.name} & Age:{self.age}\"\n",
    "    \n",
    "    def info(self):\n",
    "        print(\"This info contains Hospital Details\")\n",
    "    \n",
    "class Patient(person):\n",
    "    def __init__(self, name, age, disease, treatment_plan):\n",
    "        super().__init__(name, age)\n",
    "        self.disease=disease\n",
    "        self.treatment_plan=treatment_plan\n",
    "    def __repr__(self):\n",
    "        return f\"Treatment_Plan:{self.treatment_plan} & Disease:{self.disease}\"\n",
    "    \n",
    "    def info(self):\n",
    "        super().info()\n",
    "        print(\"This has Patient Details\")\n",
    "\n",
    "class Doctor(person):\n",
    "    def __init__(self, name, age, spec, appoint):\n",
    "        super().__init__(name, age)\n",
    "        self.spec=spec\n",
    "        self.appoint=appoint\n",
    "    def __str__(self):\n",
    "        return f\"Specialization:{self.spec} & Appointment:{self.appoint}\"\n",
    "    \n",
    "    def info(self):\n",
    "        super().info()\n",
    "        print(\"This has Doctor Details\")\n",
    "\n",
    "p=Patient(\"Mark\", 25, \"Cancer\",\"Chemo\")\n",
    "d=Doctor(\"Steve\", 29, \"Oncology\", \"Monday\")\n",
    "p\n",
    "# print(p)\n",
    "p.info()\n",
    "d.info()\n",
    "\n"
   ]
  }
 ],
 "metadata": {
  "kernelspec": {
   "display_name": "Python 3",
   "language": "python",
   "name": "python3"
  },
  "language_info": {
   "codemirror_mode": {
    "name": "ipython",
    "version": 3
   },
   "file_extension": ".py",
   "mimetype": "text/x-python",
   "name": "python",
   "nbconvert_exporter": "python",
   "pygments_lexer": "ipython3",
   "version": "3.11.9"
  }
 },
 "nbformat": 4,
 "nbformat_minor": 5
}
