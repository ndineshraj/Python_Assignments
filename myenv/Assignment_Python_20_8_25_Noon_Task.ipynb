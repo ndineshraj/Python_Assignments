{
 "cells": [
  {
   "cell_type": "code",
   "execution_count": null,
   "id": "37f88aa3",
   "metadata": {},
   "outputs": [
    {
     "name": "stdout",
     "output_type": "stream",
     "text": [
      "How many times the function <function my_function at 0x0000018BE280B380> has been called is 1\n",
      "5\n",
      "How many times the function <function my_function at 0x0000018BE280B380> has been called is 2\n",
      "How many times the function <function my_function at 0x0000018BE280B380> has been called is 3\n",
      "How many times the function <function my_function at 0x0000018BE280B380> has been called is 4\n",
      "How many times the function <function my_function at 0x0000018BE280B380> has been called is 5\n",
      "The Value of a+b is 2\n"
     ]
    }
   ],
   "source": [
    "# 2. Write a decorator that uses a nested function to count and \n",
    "# print how many times a function was called.\n",
    "\n",
    "def count_call(func):\n",
    "    count=0\n",
    "    \n",
    "    def calc(*args, **kargs):\n",
    "        nonlocal count \n",
    "        count+=1\n",
    "        print(f\"How many times the function {func} has been called is {count}\")\n",
    "        return func(*args, **kargs)\n",
    "    return calc\n",
    "\n",
    "@count_call\n",
    "def my_function(a,b):\n",
    "    return a+b\n",
    "\n",
    "print(my_function(2,3))\n",
    "my_function(5,4)\n",
    "my_function(1,2)\n",
    "my_function(5,4)\n",
    "print(f\"The Value of a+b is {my_function(1,1)}\")\n"
   ]
  }
 ],
 "metadata": {
  "kernelspec": {
   "display_name": "Python 3",
   "language": "python",
   "name": "python3"
  },
  "language_info": {
   "codemirror_mode": {
    "name": "ipython",
    "version": 3
   },
   "file_extension": ".py",
   "mimetype": "text/x-python",
   "name": "python",
   "nbconvert_exporter": "python",
   "pygments_lexer": "ipython3",
   "version": "3.11.9"
  }
 },
 "nbformat": 4,
 "nbformat_minor": 5
}
