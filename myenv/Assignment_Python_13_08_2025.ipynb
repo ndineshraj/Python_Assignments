{
 "cells": [
  {
   "cell_type": "markdown",
   "id": "c78a4376",
   "metadata": {},
   "source": [
    "2.Write a program that:\n",
    " \n",
    "Starts with a default balance (e.g., ₹10,000).\n",
    " \n",
    "Shows a menu: Check Balance, Withdraw, Deposit, Exit.\n",
    " \n",
    "Takes user input to perform actions.\n",
    " \n",
    "Ensures:\n",
    " \n",
    "Withdrawal amount is not more than balance.\n",
    " \n",
    "Deposit and withdrawal amounts are positive.\n",
    " \n",
    "Handles invalid inputs gracefully."
   ]
  },
  {
   "cell_type": "code",
   "execution_count": 8,
   "id": "74fa9956",
   "metadata": {},
   "outputs": [
    {
     "name": "stdout",
     "output_type": "stream",
     "text": [
      "Welcome To Mariamman Indian Bank - MIB\n",
      "The Default Balance is 10,000 INR\n",
      "Please Select your Service\n",
      "Menu:\n",
      " Check Balance\n",
      " Cash WithDrawal\n",
      " Deposit\n",
      "\n",
      "You've Selected Cash WithDrawal\n",
      "Please Collect you Amount\n",
      "Your Updated Balance, INR 5000\n",
      "Thank you for Choosing us\n"
     ]
    }
   ],
   "source": [
    "print(\"Welcome To Mariamman Indian Bank - MIB\")\n",
    "\n",
    "print(\"Please Select your Service\")\n",
    "print(\"Menu:\\n Check Balance\\n Cash WithDrawal\\n Deposit\\n\")\n",
    "menu = input()\n",
    "print(f\"You've Selected {menu}\")\n",
    "\n",
    "balance=10000\n",
    "if menu ==\"Check Balance\":\n",
    "    print(f\"Your Updated Account Balance is {balance} INR\")\n",
    "    print(\"Thank you for Choosing us\")\n",
    "elif menu == \"Cash WithDrawal\": \n",
    "    amount=int(input(\"Please Enter the Amount:\"))\n",
    "    if amount<=balance and amount>0:\n",
    "        print(\"Please Collect you Amount\")\n",
    "        balance-=amount\n",
    "        print(\"Your Updated Balance, INR\", balance)\n",
    "        print(\"Thank you for Choosing us\")\n",
    "    else:\n",
    "        print(\"Withdrawal Amount is Greater than the current balance, please kindly enter lesser amount\")\n",
    "elif menu == \"Deposit\":\n",
    "    amount=int(input(\"Kindly Enter the Deposit Amount:\"))\n",
    "    if amount >0:\n",
    "        balance+=amount\n",
    "        print(\"Your updated balance is INR\", balance)\n",
    "        print(\"Thank you for Choosing us\")\n",
    "    else:\n",
    "        print(\"Kindly enter the Right Amount please\")\n",
    "else:\n",
    "    print(\"Kindly Enter the Right choice Please\")\n",
    "\n"
   ]
  },
  {
   "cell_type": "code",
   "execution_count": 39,
   "id": "21d75a66",
   "metadata": {},
   "outputs": [
    {
     "name": "stdout",
     "output_type": "stream",
     "text": [
      "Error: Please enter a valid integer:  invalid literal for int() with base 10: 'k'\n"
     ]
    }
   ],
   "source": [
    "# 1.calculate the factorial of the given number by the user input.\n",
    "# If the user enters a negative number or a non-integer, print an error message using exception handling.\n",
    "\n",
    "\n",
    "def fact(n):\n",
    "    result = 1\n",
    "    for i in range(1, n+1):\n",
    "        result *= i\n",
    "    return result\n",
    "\n",
    "try:\n",
    "    n = int(input(\"Enter a positive number to find the factorial: \"))\n",
    "    if n < 0:\n",
    "        print(\"Error: Enter a non-negative integer value\")\n",
    "    else:\n",
    "        print(\"The factorial of number is:\", fact(n))\n",
    "except ValueError as e:\n",
    "    print(\"Error: Please enter a valid integer: \", e)\n"
   ]
  },
  {
   "cell_type": "code",
   "execution_count": 46,
   "id": "c60b65d6",
   "metadata": {},
   "outputs": [
    {
     "name": "stdout",
     "output_type": "stream",
     "text": [
      "1\n",
      "2\n",
      "Fizz\n",
      "4\n",
      "Buzz\n",
      "Fizz\n",
      "7\n",
      "8\n",
      "Fizz\n",
      "Buzz\n",
      "11\n",
      "Fizz\n",
      "13\n",
      "14\n",
      "FizzBuzz\n",
      "16\n",
      "17\n",
      "Fizz\n",
      "19\n",
      "Buzz\n"
     ]
    }
   ],
   "source": [
    "# 3.Write a program that:\n",
    " \n",
    "# Asks the user for a number N.\n",
    " \n",
    "# Prints numbers from 1 to N:\n",
    " \n",
    "# Print \"Fizz\" for numbers divisible by 3.\n",
    " \n",
    "# Print \"Buzz\" for numbers divisible by 5.\n",
    " \n",
    "# Print \"FizzBuzz\" for numbers divisible by both 3 and 5.\n",
    "\n",
    "n=int(input(\"Enter the value of n:\"))\n",
    "for i in range(1,n+1):\n",
    "    if i%3==0 and i%5==0:\n",
    "        print(\"FizzBuzz\")\n",
    "    elif i%3==0:\n",
    "        print(\"Fizz\")\n",
    "    elif i%5==0:\n",
    "        print(\"Buzz\")\n",
    "    else:\n",
    "        print(i)"
   ]
  },
  {
   "cell_type": "markdown",
   "id": "05b01e5b",
   "metadata": {},
   "source": []
  },
  {
   "cell_type": "code",
   "execution_count": null,
   "id": "c01f450b",
   "metadata": {},
   "outputs": [],
   "source": [
    "4.Write a program that:\n",
    " \n",
    "Randomly selects a number between 1 and 100.\n",
    " \n",
    "Asks the user to guess the number.\n",
    " \n",
    "Gives hints like \"Too high\" or \"Too low\".\n",
    " \n",
    "Repeats until the user guesses correctly.\n",
    " \n",
    "Handles non-numeric guesses with exception handling.\n",
    "\n",
    "6.Write a program to create a 4x4 matrix where each row contains the column indices."
   ]
  },
  {
   "cell_type": "code",
   "execution_count": 60,
   "id": "bd3b2ff6",
   "metadata": {},
   "outputs": [
    {
     "name": "stdout",
     "output_type": "stream",
     "text": [
      "Invalid Input Error\n"
     ]
    }
   ],
   "source": [
    "# 5.Write a program that:\n",
    " \n",
    "# Asks the user to choose the type of conversion:\n",
    " \n",
    "# Celsius to Fahrenheit\n",
    " \n",
    "# Fahrenheit to Celsius\n",
    " \n",
    "# Takes input accordingly.\n",
    " \n",
    "# Performs conversion using the formulas:\n",
    " \n",
    "# F = C * 9/5 + 32\n",
    " \n",
    "# C = (F - 32) * 5/9\n",
    " \n",
    "# Includes error handling for invalid choice or input.\n",
    "\n",
    "\n",
    "def conv(option):\n",
    "    if option == \"f\":\n",
    "        c=float(input(\"Please enter the celcius degree:\"))\n",
    "        print(\"The Conversion from Farenheit to Celcius\")\n",
    "        return c*(9/5)+32\n",
    "    if option == \"c\":\n",
    "        f=float(input(\"Please enter the farenheit degree:\"))     \n",
    "        print(\"The Conversion from Farenheit to Celcius\")\n",
    "        return (f-32)*(5/9)\n",
    "\n",
    "\n",
    "# print(f'The Conversion Value is {conv(option)} degrees')\n",
    "try:\n",
    "    option=input(\"please enter the choice of conversion Celcius(c)/Farenheit(f):\")\n",
    "    if option == c or option == f:\n",
    "        print(f'The Conversion Value is {conv(option)} degrees')\n",
    "    else:\n",
    "        print(\"Enter the right option\")\n",
    "except:\n",
    "    print(\"Invalid Input Error\")\n",
    "\n"
   ]
  },
  {
   "cell_type": "code",
   "execution_count": 63,
   "id": "98a3e12a",
   "metadata": {},
   "outputs": [
    {
     "name": "stdout",
     "output_type": "stream",
     "text": [
      "[[0, 1, 2, 3], [0, 1, 2, 3], [0, 1, 2, 3], [0, 1, 2, 3]]\n",
      "0 1 2 3\n",
      "0 1 2 3\n",
      "0 1 2 3\n",
      "0 1 2 3\n"
     ]
    }
   ],
   "source": [
    "#Not Done ! Only Logic Learnt From Source\n",
    "\n",
    "def create_column_index_matrix(rows, cols):\n",
    "    \"\"\"\n",
    "    Creates a matrix where each row contains the column indices.\n",
    "\n",
    "    Args:\n",
    "        rows (int): The number of rows in the matrix.\n",
    "        cols (int): The number of columns in the matrix.\n",
    "\n",
    "    Returns:\n",
    "        list: A 2D list representing the matrix.\n",
    "    \"\"\"\n",
    "    matrix = []\n",
    "    for _ in range(rows):\n",
    "        row = []\n",
    "        for j in range(cols):\n",
    "            row.append(j)  # Add the column index to the current row\n",
    "        matrix.append(row)\n",
    "    print(matrix)\n",
    "    return matrix\n",
    "\n",
    "\n",
    "def print_matrix(matrix):\n",
    "    \"\"\"\n",
    "    Prints a matrix in a readable format.\n",
    "\n",
    "    Args:\n",
    "        matrix (list): A 2D list representing the matrix.\n",
    "    \"\"\"\n",
    "    for row in matrix:\n",
    "        print(\" \".join(map(str, row)))\n",
    "\n",
    "# Create a 4x4 matrix with column indices in each row\n",
    "num_rows = 4\n",
    "num_cols = 4\n",
    "my_matrix = create_column_index_matrix(num_rows, num_cols)\n",
    "\n",
    "# Print the created matrix\n",
    "print_matrix(my_matrix)"
   ]
  },
  {
   "cell_type": "code",
   "execution_count": 65,
   "id": "d5389a9f",
   "metadata": {},
   "outputs": [
    {
     "name": "stdout",
     "output_type": "stream",
     "text": [
      "Welcome to the Number Guessing Game!\n",
      "I have selected a number between 1 and 100. Try to guess it!\n",
      "Too low! Try again.\n",
      "Invalid input. Please enter a numeric value.\n",
      "Too low! Try again.\n",
      "Too low! Try again.\n",
      "Too low! Try again.\n",
      "Too low! Try again.\n",
      "Too low! Try again.\n",
      "Too high! Try again.\n",
      "Too low! Try again.\n",
      "Too low! Try again.\n",
      "Too low! Try again.\n",
      "Too low! Try again.\n",
      "Too low! Try again.\n",
      "Too high! Try again.\n",
      "Congratulations! You guessed the number 94 correctly!\n"
     ]
    }
   ],
   "source": [
    "#Not Done ! Only Logic Learnt From Source\n",
    "\n",
    "import random\n",
    "\n",
    "def guess_the_number():\n",
    "    \"\"\"\n",
    "    Plays a number guessing game where the user tries to guess a randomly \n",
    "    selected number between 1 and 100.\n",
    "    \"\"\"\n",
    "    secret_number = random.randint(1, 100)\n",
    "    guess = None\n",
    "\n",
    "    print(\"Welcome to the Number Guessing Game!\")\n",
    "    print(\"I have selected a number between 1 and 100. Try to guess it!\")\n",
    "\n",
    "    while guess != secret_number:\n",
    "        try:\n",
    "            user_input = input(\"Enter your guess: \")\n",
    "            guess = int(user_input)\n",
    "\n",
    "            if guess < secret_number:\n",
    "                print(\"Too low! Try again.\")\n",
    "            elif guess > secret_number:\n",
    "                print(\"Too high! Try again.\")\n",
    "            else:\n",
    "                print(f\"Congratulations! You guessed the number {secret_number} correctly!\")\n",
    "        except ValueError:\n",
    "            print(\"Invalid input. Please enter a numeric value.\")\n",
    "guess_the_number()\n",
    "# if __name__ == \"__main__\":\n",
    "#     guess_the_number()"
   ]
  }
 ],
 "metadata": {
  "kernelspec": {
   "display_name": "Python 3",
   "language": "python",
   "name": "python3"
  },
  "language_info": {
   "codemirror_mode": {
    "name": "ipython",
    "version": 3
   },
   "file_extension": ".py",
   "mimetype": "text/x-python",
   "name": "python",
   "nbconvert_exporter": "python",
   "pygments_lexer": "ipython3",
   "version": "3.11.9"
  }
 },
 "nbformat": 4,
 "nbformat_minor": 5
}
