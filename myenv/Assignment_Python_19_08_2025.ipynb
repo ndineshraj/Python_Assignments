{
 "cells": [
  {
   "cell_type": "code",
   "execution_count": null,
   "id": "755e4c7b",
   "metadata": {},
   "outputs": [
    {
     "name": "stdout",
     "output_type": "stream",
     "text": [
      "Car Details:\n",
      "Vehicle Info: Year:2019 Make:Ford Model:Figo\n",
      "Number of Doors: 4\n",
      "\n",
      "\n",
      "Motor Cycle Details:\n",
      "Vehicle Info: Year:2022 Make:Honda Model:Classic\n",
      "Has Sidecar: No\n"
     ]
    }
   ],
   "source": [
    "# 2.Create a base class Vehicle with attributes make, model, and year. \n",
    "# Include a method display_info() that prints these details. \n",
    " \n",
    "# Create a subclass Car that inherits from Vehicle. \n",
    " \n",
    "# Add a new attribute num_doors specific to the Car class. \n",
    " \n",
    "# Override the display_info() method in Car to also print the number of doors. \n",
    " \n",
    "# Create an instance of Car and call display_info(). \n",
    " \n",
    "# Create a second subclass Motorcycle that also inherits from Vehicle and \n",
    "# adds a new attribute has_sidecar. \n",
    " \n",
    "# Override display_info() in Motorcycle to print the new attribute as well.\n",
    "\n",
    "class vehicle:\n",
    "    def __init__(self, make, model, year):\n",
    "        self.make=make\n",
    "        self.model=model\n",
    "        self.year=year\n",
    "\n",
    "    def display_info(self):\n",
    "        print(f\"Vehicle Info: Year:{self.year} Make:{self.make} Model:{self.model}\")\n",
    "\n",
    "class car(vehicle):\n",
    "    def __init__(self, make, model, year, no_of_doors):\n",
    "        super().__init__(make, model, year)\n",
    "        self.no_of_doors=no_of_doors\n",
    "    \n",
    "    def display_info(self):\n",
    "        super().display_info()\n",
    "        print(f\"Number of Doors: {self.no_of_doors}\")\n",
    "\n",
    "class motorcycle(vehicle):\n",
    "    def __init__(self, make, model, year, has_sidecar):\n",
    "        super().__init__(make, model, year)\n",
    "        self.has_sidecar=has_sidecar\n",
    "    \n",
    "    def display_info(self):\n",
    "        super().display_info()\n",
    "        print(f\"Has Sidecar: {'Yes' if self.has_sidecar else 'No'}\")\n",
    "    \n",
    "c=car(\"Ford\", \"Figo\", 2019, 4)\n",
    "print(\"Car Details:\")\n",
    "(c.display_info())\n",
    "\n",
    "print(\"\\n\")\n",
    "\n",
    "m=motorcycle(\"Honda\", \"Classic\", 2022, False)\n",
    "print(\"Motor Cycle Details:\")\n",
    "(m.display_info())\n"
   ]
  }
 ],
 "metadata": {
  "kernelspec": {
   "display_name": "Python 3",
   "language": "python",
   "name": "python3"
  },
  "language_info": {
   "codemirror_mode": {
    "name": "ipython",
    "version": 3
   },
   "file_extension": ".py",
   "mimetype": "text/x-python",
   "name": "python",
   "nbconvert_exporter": "python",
   "pygments_lexer": "ipython3",
   "version": "3.11.9"
  }
 },
 "nbformat": 4,
 "nbformat_minor": 5
}
