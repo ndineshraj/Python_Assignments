{
 "cells": [
  {
   "cell_type": "code",
   "execution_count": 1,
   "id": "dac5ce78",
   "metadata": {},
   "outputs": [
    {
     "name": "stdout",
     "output_type": "stream",
     "text": [
      "Area of the circle is 78.54 sq.cm\n"
     ]
    }
   ],
   "source": [
    "# 1.Write a function named area_of_circle(radius) that returns the area of a circle, given the radius as input.\n",
    "#Use π = 3.1416 (no need to import any libraries).\n",
    "\n",
    "def area_of_circle(radius):\n",
    "    return 3.1416*r*r\n",
    "\n",
    "r=float(input(\"Enter the radius of the circle in cms\"))\n",
    "print(f'Area of the circle is {area_of_circle(r)} sq.cm')\n",
    "    \n"
   ]
  },
  {
   "cell_type": "code",
   "execution_count": 62,
   "id": "ec592f3a",
   "metadata": {},
   "outputs": [
    {
     "name": "stdout",
     "output_type": "stream",
     "text": [
      "String Entered: heisagoodboy\n",
      "Middle Characters: go\n"
     ]
    }
   ],
   "source": [
    "# 2.Write a function get_middle(text) that returns the middle character(s) of a string:\n",
    "# If the length is odd, return the single middle character.\n",
    "# If even, return the two middle characters.\n",
    "\n",
    "\n",
    "def get_middle(text):\n",
    "    length=len(text)\n",
    "    if length%2!=0:\n",
    "        middle_index=length//2\n",
    "        return text[middle_index]\n",
    "    else:\n",
    "        middle_index=(length//2)\n",
    "        return text[middle_index-1:middle_index+1]\n",
    "\n",
    "text=input(\"Enter the string:\")\n",
    "print(\"String Entered:\", text)\n",
    "print(\"Middle Characters:\", get_middle(text))\n",
    "#Dinesh\n"
   ]
  },
  {
   "cell_type": "code",
   "execution_count": 9,
   "id": "29e1e734",
   "metadata": {},
   "outputs": [
    {
     "name": "stdout",
     "output_type": "stream",
     "text": [
      "Entered Values are: (2, 3)\n",
      "The Swapped Values are: (3, 2)\n"
     ]
    }
   ],
   "source": [
    "# 3.Write a function swap(a, b) that returns the values of a and b swapped as a tuple.\n",
    "\n",
    "def swap(a,b):\n",
    "    c=a\n",
    "    a=b\n",
    "    b=c\n",
    "    return (a,b)\n",
    "a= int(input(\"Enter the value of a:\"))\n",
    "b= int(input(\"Enter the value of b:\"))\n",
    "\n",
    "print(\"Entered Values are:\", (a,b))\n",
    "print(\"The Swapped Values are:\", swap(a,b))"
   ]
  },
  {
   "cell_type": "code",
   "execution_count": null,
   "id": "d2891a3c",
   "metadata": {},
   "outputs": [
    {
     "name": "stdout",
     "output_type": "stream",
     "text": [
      "J.D.\n"
     ]
    }
   ],
   "source": [
    "#4.Create a function get_initials(full_name) that takes a full name (first and last name) \n",
    "# and returns the initials in this format: \"J.D.\"\n",
    "# (Assume the name is always two words separated by a space.)\n",
    "\n",
    "def get_initials(full_name):\n",
    "    first_last_name=full_name.split()\n",
    "    first_name=first_last_name[0]\n",
    "    last_name=first_last_name[1]\n",
    "    fi=first_name[0].upper()\n",
    "    li=last_name[0].upper()\n",
    "    print(f'{fi}.{li}.')\n",
    "\n",
    "get_initials(\"Jack Daniels\")\n"
   ]
  },
  {
   "cell_type": "code",
   "execution_count": 29,
   "id": "154f0b76",
   "metadata": {},
   "outputs": [
    {
     "data": {
      "text/plain": [
       "10"
      ]
     },
     "execution_count": 29,
     "metadata": {},
     "output_type": "execute_result"
    }
   ],
   "source": [
    "#  5.Write a function sum_of_digits(number) that returns the sum of all digits in a number.\n",
    "#  Example: sum_of_digits(1234) gives the result is 10.\n",
    "\n",
    "def sum_of_digits(number):\n",
    "    n=str(number)\n",
    "    sum=0\n",
    "    for char in n:\n",
    "        #print(type(char))\n",
    "        sum+=int(char)\n",
    "        # print(type(sum))\n",
    "        # print (sum)\n",
    "    return sum\n",
    "sum_of_digits(1234)\n",
    "\n",
    "\n",
    "    "
   ]
  },
  {
   "cell_type": "code",
   "execution_count": 38,
   "id": "d94dad67",
   "metadata": {},
   "outputs": [
    {
     "name": "stdout",
     "output_type": "stream",
     "text": [
      "Good Morning!Dinesh\n"
     ]
    }
   ],
   "source": [
    "# 6.Write a function time_greeting(name, hour) that returns:\n",
    "# \"Good morning, [name]\" if hour < 12\n",
    "# \"Good afternoon, [name]\" if 12 <= hour < 18\n",
    "# \"Good evening, [name]\" if hour >= 18\n",
    "# (Assume hour is an integer between 0 and 23)\n",
    "\n",
    "def time_greeting(name, hour):\n",
    "    if hour <12:\n",
    "        print(f'Good Morning!{name}')\n",
    "    elif 12<=hour<18:\n",
    "        print(f'Good Afternoon! {name}')\n",
    "    elif hour>=18:\n",
    "        print(f'Good Evening! {name}')\n",
    "\n",
    "name=input(\"Enter Name:\")\n",
    "hour=int(input(\"Enter Hour: Format HH\"))\n",
    "if 0<=hour<=23:\n",
    "    time_greeting(name,hour)\n",
    "else:\n",
    "    print(\"Please give the right hour format :HH\")"
   ]
  },
  {
   "cell_type": "code",
   "execution_count": 45,
   "id": "7ffc9d98",
   "metadata": {},
   "outputs": [
    {
     "name": "stdout",
     "output_type": "stream",
     "text": [
      "Total Seconds 5400\n"
     ]
    }
   ],
   "source": [
    "# 7.Create a function to_seconds(hours, minutes) that converts time to seconds.\n",
    "\n",
    "def to_seconds(hours, minutes):\n",
    "    seconds=(hours*60*60)+(minutes*60)\n",
    "    return seconds\n",
    "\n",
    "hours=int(input(\"Please Enter the Hour in Format HH(00 to 23)\"))\n",
    "minutes=int(input(\"Please Enter the Minutes in Format SS(00 to 59\"))\n",
    "if 0<=hours<=23 and 0<=minutes<=59:\n",
    "    print(\"Total Seconds\",to_seconds(hours, minutes))\n",
    "else:\n",
    "    print(\"Enter Hour and Minutes in Right Time Format\")\n",
    "\n",
    "            \n",
    "\n",
    "\n"
   ]
  },
  {
   "cell_type": "code",
   "execution_count": 52,
   "id": "793a7a13",
   "metadata": {},
   "outputs": [
    {
     "name": "stdout",
     "output_type": "stream",
     "text": [
      "Domain Name & username ('gmail.com', 'ndineshraj')\n"
     ]
    }
   ],
   "source": [
    "# 8.Write a function get_domain(email) that extracts and returns the domain from an email address.\n",
    "\n",
    "def get_domain(email):\n",
    "    name=email.split(\"@\")\n",
    "    domain=name[1],name[0]\n",
    "    return domain\n",
    "\n",
    "print(\"Domain Name & username\",get_domain(\"ndineshraj@gmail.com\"))\n"
   ]
  }
 ],
 "metadata": {
  "kernelspec": {
   "display_name": "Python 3",
   "language": "python",
   "name": "python3"
  },
  "language_info": {
   "codemirror_mode": {
    "name": "ipython",
    "version": 3
   },
   "file_extension": ".py",
   "mimetype": "text/x-python",
   "name": "python",
   "nbconvert_exporter": "python",
   "pygments_lexer": "ipython3",
   "version": "3.11.9"
  }
 },
 "nbformat": 4,
 "nbformat_minor": 5
}
