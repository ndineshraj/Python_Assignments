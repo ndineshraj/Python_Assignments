{
 "cells": [
  {
   "cell_type": "markdown",
   "id": "87db7318",
   "metadata": {},
   "source": [
    "Hello Team, \n",
    "Kindly find the tasks are listed below\n",
    "1. Create a base class Shape with a draw() method. Override it in Rectangle and Circle. Call all.\n",
    "2. Modify the multiply method to use *args and multiply all numbers passed.\n",
    "3.Create a class Printer with a print_info() method that behaves differently based on number of arguments passed.\n",
    "4.Create a function create_profile that accepts a name, age, and any number of optional hobbies using *args. Print them all.\n",
    "5.Write a function that accepts any number of keyword arguments (**kwargs) and prints only those keys whose values are integers\n",
    "6. Build a function that calculates total price. Use default arguments for tax and discount."
   ]
  },
  {
   "cell_type": "code",
   "execution_count": 8,
   "id": "e5eb3ea3",
   "metadata": {},
   "outputs": [
    {
     "name": "stdout",
     "output_type": "stream",
     "text": [
      "Printing Integers as Value Separately\n",
      "Age:29\n",
      "Salary:50000\n",
      "\n",
      "Printing String as Values Separately\n",
      "Name:Dinesh\n",
      "City:Coimbatore\n",
      "Dept:IT\n"
     ]
    }
   ],
   "source": [
    "#5.Write a function that accepts any number of keyword arguments (**kwargs) \n",
    "#and prints only those keys whose values are integers\n",
    "\n",
    "def functionn(**kwargs):\n",
    "    print(\"Printing Integers as Value Separately\")\n",
    "    for key, value in kwargs.items():\n",
    "        if type(value)==int:\n",
    "            print(f\"{key}:{value}\")\n",
    "    \n",
    "    print(\"\\nPrinting String as Values Separately\")\n",
    "    for key, value in kwargs.items():\n",
    "        if type(value)==str:\n",
    "            print(f\"{key}:{value}\")   \n",
    "\n",
    "functionn(Name=\"Dinesh\", Age=29, City=\"Coimbatore\", Salary=50000, Dept=\"IT\")\n"
   ]
  },
  {
   "cell_type": "code",
   "execution_count": 13,
   "id": "557e56ff",
   "metadata": {},
   "outputs": [
    {
     "name": "stdout",
     "output_type": "stream",
     "text": [
      "Name: Dinesh\n",
      "Age: 29\n",
      "Hobbies:\n",
      "- Reading\n",
      "- Swimming\n",
      "- Trekking\n",
      "- Cricket\n",
      "\n",
      "\n",
      "Name: Bob\n",
      "Age: 30\n",
      "No Hobbies Given\n",
      "\n",
      "\n",
      "Name: Mark\n",
      "Age: 27\n",
      "Hobbies:\n",
      "- Cricket\n",
      "- Tennis\n",
      "\n",
      "\n",
      "Name: Steve\n",
      "Age: 25\n",
      "Hobbies:\n",
      "- Cooking\n",
      "- FootBall\n"
     ]
    }
   ],
   "source": [
    "# 4.Create a function create_profile that accepts a name, age,\n",
    "#  and any number of optional hobbies using *args. Print them all.\n",
    "\n",
    "def create_profile(name, age, *hobbies):\n",
    "    print(f\"Name: {name}\")\n",
    "    print(f\"Age: {age}\")\n",
    "    if hobbies:\n",
    "        print(\"Hobbies:\")\n",
    "        for i in hobbies:\n",
    "            print(f\"- {i}\")\n",
    "    else:\n",
    "        print(\"No Hobbies Given\")\n",
    "\n",
    "create_profile(\"Dinesh\", 29, \"Reading\", \"Swimming\", \"Trekking\", \"Cricket\")\n",
    "print(\"\\n\")\n",
    "create_profile(\"Bob\", 30)\n",
    "print(\"\\n\")\n",
    "create_profile(\"Mark\", 27, \"Cricket\", \"Tennis\")\n",
    "print(\"\\n\")\n",
    "create_profile(\"Steve\", 25, \"Cooking\", \"FootBall\")"
   ]
  },
  {
   "cell_type": "code",
   "execution_count": 17,
   "id": "9850f28c",
   "metadata": {},
   "outputs": [
    {
     "name": "stdout",
     "output_type": "stream",
     "text": [
      "Usual Discount (12%) & Default GST -10%  : 1936.0\n",
      "Premium Discount(20%) & GST (28%) on Luxury Items : 8192.0\n"
     ]
    }
   ],
   "source": [
    "# 6. Build a function that calculates total price. Use default arguments for tax and discount.\n",
    "\n",
    "def total_price(price, qty, tax=0.10, discount=0.12):\n",
    "    sub_total = price*qty\n",
    "    sub_total_after_discount=sub_total-(sub_total*discount)\n",
    "    Net_Total=sub_total_after_discount+(sub_total_after_discount*tax)\n",
    "    return Net_Total\n",
    "\n",
    "print(\"Usual Discount (12%) & Default GST -10%  :\" , total_price(1000, 2))\n",
    "print(\"Premium Discount(20%) & GST (28%) on Luxury Items :\", total_price(2000, 4, 0.28, 0.20 ) )"
   ]
  },
  {
   "cell_type": "code",
   "execution_count": 18,
   "id": "b77535ea",
   "metadata": {},
   "outputs": [
    {
     "name": "stdout",
     "output_type": "stream",
     "text": [
      "Product of Multiple Args: 720\n",
      "Product of Single Number: 9\n",
      "Product of Two Numbers: 200\n",
      "Product of None: 1\n"
     ]
    }
   ],
   "source": [
    "# 2. Modify the multiply method to use *args and multiply all numbers passed.\n",
    "\n",
    "def multiply(*args):\n",
    "    p=1\n",
    "    for i in args:\n",
    "        p*=i\n",
    "    return p    \n",
    "\n",
    "print(\"Product of Multiple Args:\", multiply(2,3,4,5,6))\n",
    "print(\"Product of Single Number:\", multiply(9))\n",
    "print(\"Product of Two Numbers:\", multiply(10,20))\n",
    "print(\"Product of None:\", multiply())"
   ]
  },
  {
   "cell_type": "code",
   "execution_count": null,
   "id": "683e7751",
   "metadata": {},
   "outputs": [],
   "source": [
    "# 3.Create a class Printer with a print_info() method that behaves differently based on number of arguments passed.\n",
    "\n",
    "\n",
    "# NOT SURE HAVE TO CHECK \n",
    "\n",
    "# class printer:\n",
    "#     def print(self, name, age=None, work=None):\n",
    "#         print(f\"Name: {name}\")\n",
    "    \n",
    "#     def print(self, name, age, work=None):\n",
    "#         print(f\"Name: {name}, Age:{age}\")\n",
    "\n",
    "#     def print(self, name, age, work):\n",
    "#         print(f\"Name:{name}, Age:{age}, Work:{work}\")\n",
    "\n",
    "# p=printer()\n",
    "# p.print(\"Dinesh\")\n",
    "# p.print(\"Dinesh\", 29)\n",
    "# p.print(\"Dinesh\", 29, \"IT\")"
   ]
  }
 ],
 "metadata": {
  "kernelspec": {
   "display_name": "Python 3",
   "language": "python",
   "name": "python3"
  },
  "language_info": {
   "codemirror_mode": {
    "name": "ipython",
    "version": 3
   },
   "file_extension": ".py",
   "mimetype": "text/x-python",
   "name": "python",
   "nbconvert_exporter": "python",
   "pygments_lexer": "ipython3",
   "version": "3.11.9"
  }
 },
 "nbformat": 4,
 "nbformat_minor": 5
}
