{
 "cells": [
  {
   "cell_type": "code",
   "execution_count": null,
   "id": "7a9592b1",
   "metadata": {},
   "outputs": [
    {
     "name": "stdout",
     "output_type": "stream",
     "text": [
      "The area of Circle is 50.24\n",
      "The area of Square is 16\n"
     ]
    }
   ],
   "source": [
    "#************************** Individual Task *******************************#\n",
    "\n",
    "# 2.Create an abstract base class Shape with:\n",
    "# Abstract method area\n",
    "# Abstract property name\n",
    "# Then implement Circle and Square subclasses.\n",
    "\n",
    "#***************************************************************************#\n",
    "\n",
    "from abc import ABC, abstractmethod\n",
    "\n",
    "class Shape(ABC):\n",
    "    @property\n",
    "    @abstractmethod\n",
    "    def name(self):\n",
    "        pass\n",
    "\n",
    "    @abstractmethod\n",
    "    def area(self):\n",
    "        pass\n",
    "\n",
    "class Circle(Shape):\n",
    "    def __init__(self, radius):\n",
    "        self.radius=radius\n",
    "\n",
    "    @property\n",
    "    def name(self):\n",
    "        return \"Circle\"\n",
    "\n",
    "    def area(self):\n",
    "        return 3.14*self.radius**2\n",
    "\n",
    "class Square(Shape):\n",
    "    def __init__(self, side):\n",
    "        self.side=side\n",
    "    \n",
    "    @property\n",
    "    def name(self):\n",
    "        return \"Square\"\n",
    "\n",
    "    def area(self):\n",
    "        return self.side**2\n",
    "\n",
    "c=Circle(4)\n",
    "s=Square(4)\n",
    "\n",
    "print(f\"The area of {c.name} is {c.area()}\")\n",
    "print(f\"The area of {s.name} is {s.area()}\")"
   ]
  }
 ],
 "metadata": {
  "kernelspec": {
   "display_name": "Python 3",
   "language": "python",
   "name": "python3"
  },
  "language_info": {
   "codemirror_mode": {
    "name": "ipython",
    "version": 3
   },
   "file_extension": ".py",
   "mimetype": "text/x-python",
   "name": "python",
   "nbconvert_exporter": "python",
   "pygments_lexer": "ipython3",
   "version": "3.11.9"
  }
 },
 "nbformat": 4,
 "nbformat_minor": 5
}
