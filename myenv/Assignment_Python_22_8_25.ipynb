{
 "cells": [
  {
   "cell_type": "code",
   "execution_count": 33,
   "id": "af19ede3",
   "metadata": {},
   "outputs": [
    {
     "name": "stdout",
     "output_type": "stream",
     "text": [
      "Forward Iteration\n",
      "1\n",
      "2\n",
      "3\n",
      "4\n",
      "5\n",
      "\n",
      "Reverse Iteration\n",
      "5\n",
      "4\n",
      "3\n",
      "2\n",
      "1\n"
     ]
    }
   ],
   "source": [
    "# 2. Create a custom iterator to loop through a list in rev\n",
    "\n",
    "class Mycustom_Iterator:\n",
    "    def __init__(self, data):\n",
    "        self.data = list(data)\n",
    "        self.current_index=0\n",
    "    \n",
    "    def __iter__(self):\n",
    "        return self\n",
    "    \n",
    "    def __next__(self):\n",
    "        if self.current_index<len(self.data):\n",
    "            item = self.data[self.current_index]\n",
    "            self.current_index+=1\n",
    "            return item\n",
    "        else:\n",
    "            raise StopIteration\n",
    "        \n",
    "    def __reversed__(self):\n",
    "        return ReverseIterator(self.data)\n",
    "\n",
    "class ReverseIterator:\n",
    "    def __init__(self, data):\n",
    "        self.data= list(data)\n",
    "        self.current_index=len(self.data)-1\n",
    "\n",
    "    def __iter__(self):\n",
    "        return self\n",
    "    \n",
    "    def __next__(self):\n",
    "        if self.current_index>=0:\n",
    "            item = self.data[self.current_index]\n",
    "            self.current_index-=1\n",
    "            return item\n",
    "        else:\n",
    "            raise StopIteration\n",
    "\n",
    "mylist =(Mycustom_Iterator([1,2,3,4,5]))\n",
    "# mylist=Mycustom_Iterator(\"DINESH\")\n",
    "print(\"Forward Iteration\")\n",
    "for item in mylist:\n",
    "    print(item)\n",
    "\n",
    "print(\"\\nReverse Iteration\")\n",
    "for item in reversed(mylist):\n",
    "    print(item)\n",
    "    \n",
    "        "
   ]
  },
  {
   "cell_type": "code",
   "execution_count": 41,
   "id": "00dc4ef5",
   "metadata": {},
   "outputs": [
    {
     "name": "stdout",
     "output_type": "stream",
     "text": [
      "[1, 2, 5, 6, 7]\n",
      "Forward iteration:\n",
      "1\n",
      "2\n",
      "5\n",
      "6\n",
      "7\n",
      "\n",
      "Reverse iteration:\n",
      "7\n",
      "6\n",
      "5\n",
      "2\n",
      "1\n"
     ]
    }
   ],
   "source": [
    "# 2. Create a custom iterator to loop through a list in rev\n",
    "\n",
    "# Just for an example \n",
    "\n",
    "class Custom_Iterator:\n",
    "    def __init__(self, d):\n",
    "        self.d = list(d)\n",
    "        print(d)\n",
    "    def __iter__(self):\n",
    "        return iter(self.d)\n",
    "    \n",
    "    def __reversed__(self):\n",
    "        # return iter(self.d[::-1])\n",
    "        return iter(reversed(self.d))\n",
    "\n",
    "my_list= Custom_Iterator([1,2,5,6,7])\n",
    "# print(my_list)\n",
    "# print(my_list[::-1])\n",
    "print(\"Forward iteration:\")\n",
    "for item in my_list:  \n",
    "    print(item)\n",
    "\n",
    "print(\"\\nReverse iteration:\")\n",
    "for item in reversed(my_list):   \n",
    "    print(item)\n"
   ]
  }
 ],
 "metadata": {
  "kernelspec": {
   "display_name": "Python 3",
   "language": "python",
   "name": "python3"
  },
  "language_info": {
   "codemirror_mode": {
    "name": "ipython",
    "version": 3
   },
   "file_extension": ".py",
   "mimetype": "text/x-python",
   "name": "python",
   "nbconvert_exporter": "python",
   "pygments_lexer": "ipython3",
   "version": "3.11.9"
  }
 },
 "nbformat": 4,
 "nbformat_minor": 5
}
